{
 "cells": [
  {
   "cell_type": "code",
   "execution_count": 1,
   "metadata": {},
   "outputs": [],
   "source": [
    "#import dependencies\n",
    "import pandas as pd"
   ]
  },
  {
   "cell_type": "code",
   "execution_count": 2,
   "metadata": {},
   "outputs": [],
   "source": [
    "#read in the csv's\n",
    "df_2020 = pd.read_csv(\"Clean_Data/World_Happiness_2020.csv\")\n",
    "df_2019 = pd.read_csv(\"Clean_Data/World_Happiness_2019.csv\")\n",
    "df_2018 = pd.read_csv(\"Clean_Data/World_Happiness_2018.csv\")\n",
    "df_2017 = pd.read_csv(\"Clean_Data/World_Happiness_2017.csv\")\n",
    "df_2016 = pd.read_csv(\"Clean_Data/World_Happiness_2016.csv\")\n",
    "df_2015 = pd.read_csv(\"Clean_Data/World_Happiness_2015.csv\")\n",
    "df_country_lat_lon = pd.read_csv(\"Clean_Data/Countries_lat_lon.csv\", encoding='latin-1')"
   ]
  },
  {
   "cell_type": "code",
   "execution_count": 3,
   "metadata": {},
   "outputs": [],
   "source": [
    "#adding coordinates of countries to world happiness csv's\n",
    "coord_2019 = df_2019.merge(df_country_lat_lon, on='Country', how = 'inner')\n",
    "coord_2018 = df_2018.merge(df_country_lat_lon, on='Country', how = 'inner')\n",
    "coord_2017 = df_2017.merge(df_country_lat_lon, on='Country', how = 'inner')\n",
    "coord_2016 = df_2016.merge(df_country_lat_lon, on='Country', how = 'inner')\n",
    "coord_2015 = df_2015.merge(df_country_lat_lon, on='Country', how = 'inner')"
   ]
  },
  {
   "cell_type": "code",
   "execution_count": 4,
   "metadata": {},
   "outputs": [],
   "source": [
    "#saving world happiness csv's with lat and long coordinates\n",
    "coord_2019.to_csv(r'Clean_Data/happiness_map2019.csv', index = False)\n",
    "coord_2018.to_csv(r'Clean_Data/happiness_map2018.csv', index = False)\n",
    "coord_2017.to_csv(r'Clean_Data/happiness_map2017.csv', index = False)\n",
    "coord_2016.to_csv(r'Clean_Data/happiness_map2016.csv', index = False)\n",
    "coord_2015.to_csv(r'Clean_Data/happiness_map2015.csv', index = False)"
   ]
  }
 ],
 "metadata": {
  "kernelspec": {
   "display_name": "Python [conda env:PythonAdv] *",
   "language": "python",
   "name": "conda-env-PythonAdv-py"
  },
  "language_info": {
   "codemirror_mode": {
    "name": "ipython",
    "version": 3
   },
   "file_extension": ".py",
   "mimetype": "text/x-python",
   "name": "python",
   "nbconvert_exporter": "python",
   "pygments_lexer": "ipython3",
   "version": "3.6.10"
  }
 },
 "nbformat": 4,
 "nbformat_minor": 4
}
